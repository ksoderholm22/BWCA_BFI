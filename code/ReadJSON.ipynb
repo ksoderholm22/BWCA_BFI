{
 "cells": [
  {
   "cell_type": "code",
   "execution_count": 1,
   "metadata": {},
   "outputs": [],
   "source": [
    "from urllib.request import urlopen"
   ]
  },
  {
   "cell_type": "code",
   "execution_count": 2,
   "metadata": {},
   "outputs": [],
   "source": [
    "import json"
   ]
  },
  {
   "cell_type": "code",
   "execution_count": 8,
   "metadata": {},
   "outputs": [],
   "source": [
    "url=\"https://www.dnr.state.mn.us/lakefind/showreport.html?downum=38010400\""
   ]
  },
  {
   "cell_type": "code",
   "execution_count": 9,
   "metadata": {},
   "outputs": [
    {
     "ename": "HTTPError",
     "evalue": "HTTP Error 403: Forbidden",
     "output_type": "error",
     "traceback": [
      "\u001b[0;31m---------------------------------------------------------------------------\u001b[0m",
      "\u001b[0;31mHTTPError\u001b[0m                                 Traceback (most recent call last)",
      "Cell \u001b[0;32mIn[9], line 1\u001b[0m\n\u001b[0;32m----> 1\u001b[0m response\u001b[39m=\u001b[39murlopen(url)\n",
      "File \u001b[0;32m~/opt/anaconda3/envs/bwca/lib/python3.8/urllib/request.py:222\u001b[0m, in \u001b[0;36murlopen\u001b[0;34m(url, data, timeout, cafile, capath, cadefault, context)\u001b[0m\n\u001b[1;32m    220\u001b[0m \u001b[39melse\u001b[39;00m:\n\u001b[1;32m    221\u001b[0m     opener \u001b[39m=\u001b[39m _opener\n\u001b[0;32m--> 222\u001b[0m \u001b[39mreturn\u001b[39;00m opener\u001b[39m.\u001b[39;49mopen(url, data, timeout)\n",
      "File \u001b[0;32m~/opt/anaconda3/envs/bwca/lib/python3.8/urllib/request.py:531\u001b[0m, in \u001b[0;36mOpenerDirector.open\u001b[0;34m(self, fullurl, data, timeout)\u001b[0m\n\u001b[1;32m    529\u001b[0m \u001b[39mfor\u001b[39;00m processor \u001b[39min\u001b[39;00m \u001b[39mself\u001b[39m\u001b[39m.\u001b[39mprocess_response\u001b[39m.\u001b[39mget(protocol, []):\n\u001b[1;32m    530\u001b[0m     meth \u001b[39m=\u001b[39m \u001b[39mgetattr\u001b[39m(processor, meth_name)\n\u001b[0;32m--> 531\u001b[0m     response \u001b[39m=\u001b[39m meth(req, response)\n\u001b[1;32m    533\u001b[0m \u001b[39mreturn\u001b[39;00m response\n",
      "File \u001b[0;32m~/opt/anaconda3/envs/bwca/lib/python3.8/urllib/request.py:640\u001b[0m, in \u001b[0;36mHTTPErrorProcessor.http_response\u001b[0;34m(self, request, response)\u001b[0m\n\u001b[1;32m    637\u001b[0m \u001b[39m# According to RFC 2616, \"2xx\" code indicates that the client's\u001b[39;00m\n\u001b[1;32m    638\u001b[0m \u001b[39m# request was successfully received, understood, and accepted.\u001b[39;00m\n\u001b[1;32m    639\u001b[0m \u001b[39mif\u001b[39;00m \u001b[39mnot\u001b[39;00m (\u001b[39m200\u001b[39m \u001b[39m<\u001b[39m\u001b[39m=\u001b[39m code \u001b[39m<\u001b[39m \u001b[39m300\u001b[39m):\n\u001b[0;32m--> 640\u001b[0m     response \u001b[39m=\u001b[39m \u001b[39mself\u001b[39;49m\u001b[39m.\u001b[39;49mparent\u001b[39m.\u001b[39;49merror(\n\u001b[1;32m    641\u001b[0m         \u001b[39m'\u001b[39;49m\u001b[39mhttp\u001b[39;49m\u001b[39m'\u001b[39;49m, request, response, code, msg, hdrs)\n\u001b[1;32m    643\u001b[0m \u001b[39mreturn\u001b[39;00m response\n",
      "File \u001b[0;32m~/opt/anaconda3/envs/bwca/lib/python3.8/urllib/request.py:569\u001b[0m, in \u001b[0;36mOpenerDirector.error\u001b[0;34m(self, proto, *args)\u001b[0m\n\u001b[1;32m    567\u001b[0m \u001b[39mif\u001b[39;00m http_err:\n\u001b[1;32m    568\u001b[0m     args \u001b[39m=\u001b[39m (\u001b[39mdict\u001b[39m, \u001b[39m'\u001b[39m\u001b[39mdefault\u001b[39m\u001b[39m'\u001b[39m, \u001b[39m'\u001b[39m\u001b[39mhttp_error_default\u001b[39m\u001b[39m'\u001b[39m) \u001b[39m+\u001b[39m orig_args\n\u001b[0;32m--> 569\u001b[0m     \u001b[39mreturn\u001b[39;00m \u001b[39mself\u001b[39;49m\u001b[39m.\u001b[39;49m_call_chain(\u001b[39m*\u001b[39;49margs)\n",
      "File \u001b[0;32m~/opt/anaconda3/envs/bwca/lib/python3.8/urllib/request.py:502\u001b[0m, in \u001b[0;36mOpenerDirector._call_chain\u001b[0;34m(self, chain, kind, meth_name, *args)\u001b[0m\n\u001b[1;32m    500\u001b[0m \u001b[39mfor\u001b[39;00m handler \u001b[39min\u001b[39;00m handlers:\n\u001b[1;32m    501\u001b[0m     func \u001b[39m=\u001b[39m \u001b[39mgetattr\u001b[39m(handler, meth_name)\n\u001b[0;32m--> 502\u001b[0m     result \u001b[39m=\u001b[39m func(\u001b[39m*\u001b[39;49margs)\n\u001b[1;32m    503\u001b[0m     \u001b[39mif\u001b[39;00m result \u001b[39mis\u001b[39;00m \u001b[39mnot\u001b[39;00m \u001b[39mNone\u001b[39;00m:\n\u001b[1;32m    504\u001b[0m         \u001b[39mreturn\u001b[39;00m result\n",
      "File \u001b[0;32m~/opt/anaconda3/envs/bwca/lib/python3.8/urllib/request.py:649\u001b[0m, in \u001b[0;36mHTTPDefaultErrorHandler.http_error_default\u001b[0;34m(self, req, fp, code, msg, hdrs)\u001b[0m\n\u001b[1;32m    648\u001b[0m \u001b[39mdef\u001b[39;00m \u001b[39mhttp_error_default\u001b[39m(\u001b[39mself\u001b[39m, req, fp, code, msg, hdrs):\n\u001b[0;32m--> 649\u001b[0m     \u001b[39mraise\u001b[39;00m HTTPError(req\u001b[39m.\u001b[39mfull_url, code, msg, hdrs, fp)\n",
      "\u001b[0;31mHTTPError\u001b[0m: HTTP Error 403: Forbidden"
     ]
    }
   ],
   "source": [
    "response=urlopen(url)"
   ]
  },
  {
   "cell_type": "code",
   "execution_count": 38,
   "metadata": {},
   "outputs": [
    {
     "data": {
      "text/plain": [
       "<http.client.HTTPResponse at 0x7f85aa9c9f70>"
      ]
     },
     "execution_count": 38,
     "metadata": {},
     "output_type": "execute_result"
    }
   ],
   "source": [
    "response"
   ]
  },
  {
   "cell_type": "code",
   "execution_count": 26,
   "metadata": {},
   "outputs": [],
   "source": [
    "data_json=json.loads(response.read())"
   ]
  },
  {
   "cell_type": "code",
   "execution_count": 27,
   "metadata": {},
   "outputs": [
    {
     "name": "stdout",
     "output_type": "stream",
     "text": [
      "{'status': 'SUCCESS', 'message': 'Normal execution.', 'result': {'officeCode': 'F215', 'surveys': [{'surveyID': '112111', 'headerInfo': ['Polly', None, '38010400', '1962-07-02', '112111', 'Initial Survey'], 'narrative': '<p>07/02/1962 - Polly Lake is a 513 acre, very soft-water lake in the Kawishiwi River system. The lake lies within the roadless and airspace reservation zone of the Superior National Forest, and is accessible by portages from Malberg Lake, Kawasachong Lake or Hazel Lake.  The maximum depth of Polly Lake is 21 feet, the median depth is 9 feet, and approximately 80% of the lake is shallower than 15 feet.  There are six inlets (several are intermittent) and one outlet.  Forest land with limited amounts of shoreline marsh completely surrounds Polly Lake.  Three campsites are present.  Shoal soils are about 95% ledge rock and boulders, and 5% scattered rubble, gravel, sand, and muck.At the time of the survey, there was sufficient dissolved oxygen for fish life to a depth of about 14 feet. Aquatic vegetation was generally scarce, and the water was brown (secchi disk 10 feet).  Test netting indicated an abundance of Walleye, White Sucker, Yellow Perch and Northern Pike.  One Rock Bass was also taken.  About 95% of the Walleye were less than 15 inches long; Northern Pike ranged between 11 inches and 23 inches.  Scale aging of Walleye indicated very slow growth.  Shiner, Yellow Perch, Walleye and Green Sunfish were taken in minnow traps.  Almost one-half of the White Sucker examined were infected with fish lice (Argulus spp.), but only one gamefish, a Northern Pike was parasitized by the lice.Spawning facilities are rated \"good\" for Walleye, Northen Pike and Smallmouth Bass; \"fair\" for Largemouth Bass and trout; and \"poor\" for centrarchid panfish.Polly Lake is a lightly-fished canoe-route lake.  Walleye were known to be present as early as 1936, and Walleye angling has been reported to be fair in recent years.Fourteen beaver lodges and numerous cuttings were observed around the lake.</p>', 'surveyType': 'Standard Survey', 'surveyDate': '1962-07-02', 'surveySubType': 'Initial Survey', 'lengths': {}, 'fishCatchSummaries': [{'gearCount': 10, 'CPUE': '2.00', 'totalCatch': 20, 'totalWeight': 0, 'species': 'NOP', 'averageWeight': '0.00', 'quartileCount': '2.0-8.5', 'gear': 'Standard gill nets', 'quartileWeight': '1.4-2.7'}, {'totalWeight': 0, 'totalCatch': 1, 'gearCount': 10, 'CPUE': '0.10', 'quartileWeight': '0.2-0.3', 'gear': 'Standard gill nets', 'quartileCount': '0.3-1.2', 'averageWeight': '0.00', 'species': 'RKB'}, {'species': 'WAE', 'averageWeight': '0.00', 'quartileCount': '2.2-10.5', 'gear': 'Standard gill nets', 'quartileWeight': '1.1-1.9', 'CPUE': '11.20', 'gearCount': 10, 'totalCatch': 112, 'totalWeight': 0}, {'totalCatch': 63, 'CPUE': '6.30', 'gearCount': 10, 'totalWeight': 0, 'averageWeight': '0.00', 'species': 'YEP', 'quartileWeight': '0.1-0.2', 'quartileCount': '2.5-14.3', 'gear': 'Standard gill nets'}, {'averageWeight': '0.00', 'species': 'WTS', 'quartileWeight': '0.9-2.3', 'quartileCount': '1.6-8.4', 'gear': 'Standard gill nets', 'totalCatch': 112, 'CPUE': '11.20', 'gearCount': 10, 'totalWeight': 0}]}, {'narrative': '<p>Polly Lake has an area of 485 acres with a maximum depth of 21 feet and has brown tinted water with clarity around 7 feet.  The lake is located within the BWCAW about 23 miles northeast of Isabella, and is a part of a popular canoe route called the Girl Chain.  There are three portage routes into the lake.  An 85 rod portage from Townline Lake to the south end of the lake, a 104 rod portage from Phoebe River to the southeast corner of the lake, and a 19 rod portage from Kawishiwi River to the north end of the lake.  The Pagami Fire of 2011 burned to the south and west of Polly Lake and affected the watershed of the lake, but only a very small portion of the southern shoreline burned during the fire. <br> \\n <br> \\nThe 2016 Walleye gill net catch in 9 sets was 6.1/net, which is average compared to similar lakes in the area.  The average weight of 1 pound per fish is slightly small compared to similar lakes.  The largest fish sampled was 24.4 inches long and weighed 5.1 pounds.  Nine different year classes were sampled and the growth rate of Walleye is average for the Finland Area. <br> \\n  <br> \\nThe Northern Pike catch of 1.1/net is considered below average relative to similar lakes.  The average weight of 1.7 pounds per fish is average for the area.  The largest fish sampled was 35.3 inches long and weighed 7.8 pounds.  Five year classes were sampled and the growth rate was average by Finland Area standards. <br> \\n <br> \\nSmallmouth Bass catch of 1.1/net is below average relative to similar lakes.  The average weight of 1.6 pounds per fish is average.  The largest fish sampled was 16.2 inches long and weighed 2.4 pounds.  Only two year classes were sampled and growth is average for the Finland Area.  Smallmouth Bass were first sampled in Polly Lake in 2002, with both the catch rate and average size increasing in 2016.  Bass generally do not sample well in nets, and with a sample of just 10 fish, it may not give an accurate picture of the population that is currently in the lake. <br> \\n <br> \\nYellow Perch catch was 2.8/net, average for the lake class.  The average weight of 0.2 pounds is slightly above average relative to similar lakes.  The largest fish sampled was 9.6 inches long and weighed almost half a pound.  Growth of Yellow Perch is slow for the Finland Area.  <br> \\n <br> \\nWhite Suckers were caught at above average numbers and average size, while Rock Bass were sampled in average numbers and size for similar lakes.  Seining and minnow traps also sampled Pumpkinseed, Green Sunfish, Blacknose Shiner and Common Shiner. <br> \\n</p>', 'surveyType': 'Standard Survey', 'surveyDate': '2016-09-12', 'surveySubType': 'Standard Survey', 'surveyID': '11961626026900000', 'headerInfo': ['Polly', None, '38010400', '2016-09-12', '11961626026900000', 'Standard Survey'], 'fishCatchSummaries': [{'gearCount': 1, 'CPUE': '1.00', 'totalCatch': 1, 'totalWeight': 372, 'averageWeight': '0.82', 'species': 'NOP', 'quartileWeight': 'N/A', 'quartileCount': 'N/A', 'gear': 'Open-water angling'}, {'gearCount': 12, 'CPUE': '0.25', 'totalCatch': 3, 'totalWeight': 0, 'species': 'RKB', 'averageWeight': '0.00', 'quartileCount': 'N/A', 'gear': 'Minnow traps', 'quartileWeight': 'N/A'}, {'quartileWeight': '1.4-2.7', 'gear': 'Standard gill nets', 'quartileCount': '2.0-8.5', 'averageWeight': '1.72', 'species': 'NOP', 'totalWeight': 7820, 'gearCount': 9, 'CPUE': '1.11', 'totalCatch': 10}, {'totalWeight': 0, 'totalCatch': 2, 'CPUE': '0.67', 'gearCount': 3, 'quartileWeight': 'N/A', 'gear': '15-ft beach seine', 'quartileCount': 'N/A', 'averageWeight': '0.00', 'species': 'CSH'}, {'totalCatch': 4, 'CPUE': '0.44', 'gearCount': 9, 'totalWeight': 460, 'species': 'RKB', 'averageWeight': '0.25', 'quartileCount': '0.3-1.2', 'gear': 'Standard gill nets', 'quartileWeight': '0.2-0.3'}, {'gear': '15-ft beach seine', 'quartileCount': 'N/A', 'quartileWeight': 'N/A', 'species': 'PMK', 'averageWeight': '0.00', 'totalWeight': 0, 'totalCatch': 3, 'CPUE': '1.00', 'gearCount': 3}, {'totalWeight': 0, 'CPUE': '0.08', 'gearCount': 12, 'totalCatch': 1, 'quartileWeight': 'N/A', 'quartileCount': 'N/A', 'gear': 'Minnow traps', 'averageWeight': '0.00', 'species': 'CSH'}, {'totalWeight': 0, 'totalCatch': 2, 'CPUE': '0.67', 'gearCount': 3, 'quartileWeight': 'N/A', 'quartileCount': 'N/A', 'gear': '15-ft beach seine', 'averageWeight': '0.00', 'species': 'YEP'}, {'totalCatch': 7, 'gearCount': 3, 'CPUE': '2.33', 'totalWeight': 0, 'species': 'GSF', 'averageWeight': '0.00', 'quartileCount': 'N/A', 'gear': '15-ft beach seine', 'quartileWeight': 'N/A'}, {'totalWeight': 0, 'totalCatch': 19, 'CPUE': '1.58', 'gearCount': 12, 'quartileCount': 'N/A', 'gear': 'Minnow traps', 'quartileWeight': 'N/A', 'species': 'PMK', 'averageWeight': '0.00'}, {'totalWeight': 7425, 'gearCount': 9, 'CPUE': '1.11', 'totalCatch': 10, 'quartileCount': '1.6-3.5', 'gear': 'Standard gill nets', 'quartileWeight': '1.5-2.1', 'species': 'SMB', 'averageWeight': '1.64'}, {'averageWeight': '0.97', 'species': 'WAE', 'quartileWeight': '1.1-1.9', 'quartileCount': '2.2-10.5', 'gear': 'Standard gill nets', 'totalCatch': 55, 'gearCount': 9, 'CPUE': '6.11', 'totalWeight': 24181}, {'gear': 'Minnow traps', 'quartileCount': 'N/A', 'quartileWeight': 'N/A', 'species': 'YEP', 'averageWeight': '0.00', 'totalWeight': 0, 'gearCount': 12, 'CPUE': '0.17', 'totalCatch': 2}, {'gearCount': 12, 'CPUE': '1.08', 'totalCatch': 13, 'totalWeight': 0, 'averageWeight': '0.00', 'species': 'GSF', 'quartileWeight': 'N/A', 'gear': 'Minnow traps', 'quartileCount': 'N/A'}, {'gearCount': 3, 'CPUE': '1.33', 'totalCatch': 4, 'totalWeight': 0, 'averageWeight': '0.00', 'species': 'BNS', 'quartileWeight': 'N/A', 'quartileCount': 'N/A', 'gear': '15-ft beach seine'}, {'species': 'WTS', 'averageWeight': '1.95', 'quartileCount': '1.6-8.4', 'gear': 'Standard gill nets', 'quartileWeight': '0.9-2.3', 'gearCount': 9, 'CPUE': '11.89', 'totalCatch': 107, 'totalWeight': 94883}, {'averageWeight': '0.34', 'species': 'NOP', 'quartileWeight': 'N/A', 'quartileCount': 'N/A', 'gear': '15-ft beach seine', 'totalCatch': 1, 'gearCount': 3, 'CPUE': '0.33', 'totalWeight': 156}, {'quartileWeight': '0.1-0.2', 'quartileCount': '2.5-14.3', 'gear': 'Standard gill nets', 'averageWeight': '0.18', 'species': 'YEP', 'totalWeight': 2066, 'gearCount': 9, 'CPUE': '2.78', 'totalCatch': 25}, {'averageWeight': '0.00', 'species': 'RKB', 'quartileWeight': 'N/A', 'quartileCount': 'N/A', 'gear': '15-ft beach seine', 'totalCatch': 3, 'gearCount': 3, 'CPUE': '1.00', 'totalWeight': 0}, {'totalWeight': 790, 'totalCatch': 1, 'CPUE': '0.08', 'gearCount': 12, 'quartileWeight': 'N/A', 'gear': 'Minnow traps', 'quartileCount': 'N/A', 'averageWeight': '1.74', 'species': 'NOP'}], 'lengths': {'SMB': {'minimum_length': 12, 'fishCount': [[12, 1], [13, 3], [14, 3], [15, 2], [16, 1]], 'maximum_length': 16}, 'WAE': {'minimum_length': 7, 'fishCount': [[10, 3], [11, 10], [12, 7], [13, 9], [14, 7], [15, 3], [16, 2], [17, 3], [19, 1], [20, 1], [21, 1], [22, 1], [24, 1], [7, 1], [9, 5]], 'maximum_length': 24}, 'WTS': {'maximum_length': 20, 'fishCount': [[10, 1], [11, 2], [12, 2], [13, 2], [14, 5], [15, 12], [16, 12], [17, 35], [18, 15], [19, 16], [20, 1], [7, 1], [8, 1], [9, 2]], 'minimum_length': 7}, 'RKB': {'maximum_length': 7, 'fishCount': [[5, 1], [6, 2], [7, 1]], 'minimum_length': 5}, 'NOP': {'maximum_length': 35, 'fishCount': [[12, 1], [14, 2], [15, 1], [16, 2], [17, 1], [18, 1], [19, 1], [20, 2], [22, 1], [35, 1]], 'minimum_length': 12}, 'YEP': {'minimum_length': 2, 'fishCount': [[2, 3], [5, 2], [6, 10], [7, 9], [8, 1], [9, 3]], 'maximum_length': 9}}}, {'lengths': {'NOP': {'fishCount': [[15, 1], [16, 1], [19, 3], [20, 2], [21, 1], [36, 1]], 'minimum_length': 15, 'maximum_length': 36}, 'YEP': {'maximum_length': 7, 'minimum_length': 2, 'fishCount': [[2, 28], [3, 1], [5, 7], [6, 2], [7, 5]]}, 'RKB': {'maximum_length': 7, 'fishCount': [[6, 3], [7, 1]], 'minimum_length': 6}, 'WAE': {'maximum_length': 21, 'fishCount': [[10, 3], [11, 4], [12, 6], [13, 9], [14, 8], [15, 2], [16, 3], [17, 1], [20, 1], [21, 1], [8, 5], [9, 6]], 'minimum_length': 8}, 'SMB': {'maximum_length': 12, 'fishCount': [[12, 1], [5, 1], [6, 1], [7, 1], [9, 1]], 'minimum_length': 5}, 'WTS': {'maximum_length': 18, 'minimum_length': 9, 'fishCount': [[10, 6], [11, 1], [12, 2], [13, 6], [14, 11], [15, 21], [16, 14], [17, 13], [18, 2], [9, 1]]}, 'PMK': {'maximum_length': 4, 'minimum_length': 4, 'fishCount': [[4, 2]]}}, 'fishCatchSummaries': [{'totalCatch': 9, 'gearCount': 9, 'CPUE': '1.00', 'totalWeight': 11855, 'averageWeight': '2.90', 'species': 'NOP', 'quartileWeight': '1.4-2.7', 'quartileCount': '2.0-8.5', 'gear': 'Standard gill nets'}, {'quartileWeight': '0.9-2.3', 'gear': 'Standard gill nets', 'quartileCount': '1.6-8.4', 'averageWeight': '1.42', 'species': 'WTS', 'totalWeight': 49763, 'CPUE': '8.56', 'gearCount': 9, 'totalCatch': 77}, {'gearCount': 9, 'CPUE': '5.44', 'totalCatch': 49, 'totalWeight': 17442, 'species': 'WAE', 'averageWeight': '0.78', 'gear': 'Standard gill nets', 'quartileCount': '2.2-10.5', 'quartileWeight': '1.1-1.9'}, {'species': 'PMK', 'averageWeight': '0.07', 'gear': 'Standard gill nets', 'quartileCount': 'N/A', 'quartileWeight': 'N/A', 'CPUE': '0.22', 'gearCount': 9, 'totalCatch': 2, 'totalWeight': 63}, {'species': 'SMB', 'averageWeight': '0.36', 'gear': 'Standard gill nets', 'quartileCount': '1.6-3.5', 'quartileWeight': '1.5-2.1', 'totalCatch': 5, 'gearCount': 9, 'CPUE': '0.56', 'totalWeight': 809}, {'gear': 'Minnow traps', 'quartileCount': 'N/A', 'quartileWeight': 'N/A', 'species': 'BNS', 'averageWeight': '0.00', 'totalWeight': 0, 'CPUE': '1.25', 'gearCount': 4, 'totalCatch': 5}, {'species': 'YEP', 'averageWeight': '0.00', 'gear': 'Minnow traps', 'quartileCount': 'N/A', 'quartileWeight': 'N/A', 'totalCatch': 29, 'gearCount': 4, 'CPUE': '7.25', 'totalWeight': 9}, {'species': 'YEP', 'averageWeight': '0.12', 'quartileCount': '2.5-14.3', 'gear': 'Standard gill nets', 'quartileWeight': '0.1-0.2', 'totalCatch': 14, 'gearCount': 9, 'CPUE': '1.56', 'totalWeight': 736}, {'species': 'RKB', 'averageWeight': '0.24', 'quartileCount': '0.3-1.2', 'gear': 'Standard gill nets', 'quartileWeight': '0.2-0.3', 'CPUE': '0.44', 'gearCount': 9, 'totalCatch': 4, 'totalWeight': 428}], 'headerInfo': ['Polly', None, '38010400', '2002-07-08', '112969', 'Re-Survey'], 'surveyID': '112969', 'surveyDate': '2002-07-08', 'surveySubType': 'Re-Survey', 'narrative': '<p>Polly Lake is several portages inside the Boundary Waters Canoe Area Wilderness on a heavily used, motorless, canoe route.  The fish population is sustained entirely through natural reproduction.  Walleye are the primary fish species pursued by anglers in this lake.Walleye were sampled in average numbers in the 2002 survey; however, their average size (12.8 inches; 0.8 pound) was below the normal range.  The walleye ranged from 8.3 inches to 21.5 inches, with approximately 30% of the fish in the sample ranging between 12 inches and 14 inches.Northern pike were collected in below-average numbers, and for the most part the fish were small, with almost all the fish in the sample being less than 2.0 pounds.  One larger northern pike was sampled, it measured 36.2 inches and weighed 15.7 pounds.Yellow perch were collected in below average numbers and appeared to have been too small to interest most anglers.  The largest yellow perch collected was only 7.8 inches.Smallmouth bass were sampled in low numbers.  The fish in the sample were small, ranging between 5.6 inches and 12.3 inches.</p>', 'surveyType': 'Standard Survey'}], 'waterClarity': [['09/12/2016', '7.5']], 'sampledPlants': [], 'maxDepthFeet': 21, 'averageWaterClarity': '7.5', 'shoreLengthMiles': 18.56, 'lakeName': 'Polly', 'areaAcres': 485.25, 'littoralAcres': 378, 'DOWNumber': '38010400', 'meanDepthFeet': 9, 'accesses': [{'location': '', 'accessTypeId': 'PO', 'ownerTypeId': 'USF', 'publicUseAuthCode': 'OPEN', 'lakeAccessComments': ' '}, {'accessTypeId': 'PO', 'location': '', 'lakeAccessComments': ' ', 'ownerTypeId': 'USF', 'publicUseAuthCode': 'OPEN'}, {'location': '', 'accessTypeId': 'PO', 'lakeAccessComments': ' ', 'ownerTypeId': 'USF', 'publicUseAuthCode': 'OPEN'}]}, 'timestamp': 1678267936}\n"
     ]
    }
   ],
   "source": [
    "print(data_json)"
   ]
  },
  {
   "cell_type": "code",
   "execution_count": 11,
   "metadata": {},
   "outputs": [],
   "source": [
    "import pandas as pd\n",
    "from flatten_json import flatten\n"
   ]
  },
  {
   "cell_type": "code",
   "execution_count": 87,
   "metadata": {},
   "outputs": [],
   "source": [
    "url=\"https://maps2.dnr.state.mn.us/cgi-bin/lakefinder/detail.cgi?type=lake_survey&id=38010400\"\n",
    "response=urlopen(url)\n",
    "dj=json.loads(response.read())\n",
    "dj=flatten(dj)\n",
    "dj=pd.json_normalize(dj).reset_index()\n",
    "dj=dj.astype(str)\n",
    "dj.loc[ dj['result_meanDepthFeet'] == '0', 'result_meanDepthFeet'] = 'NA'\n",
    "datecols=[col for col in dj.columns if 'surveyDate' in col]\n",
    "numsurveys = len(datecols)\n",
    "dj\n",
    "dj.to_csv('/Users/kevinsoderholm/Desktop/PythonProjects/BWCA_APPATHON/SurveyTest.csv')\n"
   ]
  },
  {
   "cell_type": "code",
   "execution_count": 89,
   "metadata": {},
   "outputs": [
    {
     "name": "stderr",
     "output_type": "stream",
     "text": [
      "/var/folders/l4/kn807d4s6kl5z1bvt1r084440000gn/T/ipykernel_41080/3624395790.py:3: SettingWithCopyWarning: \n",
      "A value is trying to be set on a copy of a slice from a DataFrame.\n",
      "Try using .loc[row_indexer,col_indexer] = value instead\n",
      "\n",
      "See the caveats in the documentation: https://pandas.pydata.org/pandas-docs/stable/user_guide/indexing.html#returning-a-view-versus-a-copy\n",
      "  djsurveys['year'+'{}'.format(i)]=djsurveys['result_surveys_'+'{}'.format(i)+'_surveyDate'].str.slice(0,4)\n",
      "/var/folders/l4/kn807d4s6kl5z1bvt1r084440000gn/T/ipykernel_41080/3624395790.py:3: SettingWithCopyWarning: \n",
      "A value is trying to be set on a copy of a slice from a DataFrame.\n",
      "Try using .loc[row_indexer,col_indexer] = value instead\n",
      "\n",
      "See the caveats in the documentation: https://pandas.pydata.org/pandas-docs/stable/user_guide/indexing.html#returning-a-view-versus-a-copy\n",
      "  djsurveys['year'+'{}'.format(i)]=djsurveys['result_surveys_'+'{}'.format(i)+'_surveyDate'].str.slice(0,4)\n",
      "/var/folders/l4/kn807d4s6kl5z1bvt1r084440000gn/T/ipykernel_41080/3624395790.py:3: SettingWithCopyWarning: \n",
      "A value is trying to be set on a copy of a slice from a DataFrame.\n",
      "Try using .loc[row_indexer,col_indexer] = value instead\n",
      "\n",
      "See the caveats in the documentation: https://pandas.pydata.org/pandas-docs/stable/user_guide/indexing.html#returning-a-view-versus-a-copy\n",
      "  djsurveys['year'+'{}'.format(i)]=djsurveys['result_surveys_'+'{}'.format(i)+'_surveyDate'].str.slice(0,4)\n"
     ]
    },
    {
     "data": {
      "text/html": [
       "<div>\n",
       "<style scoped>\n",
       "    .dataframe tbody tr th:only-of-type {\n",
       "        vertical-align: middle;\n",
       "    }\n",
       "\n",
       "    .dataframe tbody tr th {\n",
       "        vertical-align: top;\n",
       "    }\n",
       "\n",
       "    .dataframe thead th {\n",
       "        text-align: right;\n",
       "    }\n",
       "</style>\n",
       "<table border=\"1\" class=\"dataframe\">\n",
       "  <thead>\n",
       "    <tr style=\"text-align: right;\">\n",
       "      <th></th>\n",
       "      <th>year0</th>\n",
       "      <th>year1</th>\n",
       "      <th>year2</th>\n",
       "    </tr>\n",
       "  </thead>\n",
       "  <tbody>\n",
       "    <tr>\n",
       "      <th>0</th>\n",
       "      <td>1962</td>\n",
       "      <td>2016</td>\n",
       "      <td>2002</td>\n",
       "    </tr>\n",
       "  </tbody>\n",
       "</table>\n",
       "</div>"
      ],
      "text/plain": [
       "  year0 year1 year2\n",
       "0  1962  2016  2002"
      ]
     },
     "execution_count": 89,
     "metadata": {},
     "output_type": "execute_result"
    }
   ],
   "source": [
    "\n",
    "\n",
    "djsurveys=dj[datecols]\n",
    "for i in range(0,numsurveys):\n",
    "    djsurveys['year'+'{}'.format(i)]=djsurveys['result_surveys_'+'{}'.format(i)+'_surveyDate'].str.slice(0,4)\n",
    "yearcols=[col for col in djsurveys.columns if 'year' in col]\n",
    "djsurveys=djsurveys[yearcols]\n",
    "djsurveys\n"
   ]
  },
  {
   "cell_type": "code",
   "execution_count": null,
   "metadata": {},
   "outputs": [],
   "source": []
  },
  {
   "cell_type": "code",
   "execution_count": 90,
   "metadata": {},
   "outputs": [
    {
     "data": {
      "text/plain": [
       "'2016-09-12'"
      ]
     },
     "execution_count": 90,
     "metadata": {},
     "output_type": "execute_result"
    }
   ],
   "source": [
    "djsurveys.astype(int)\n",
    "for i in range(0,numsurveys):\n",
    "    djsurveys['year'+'{}'.format(i)]=pd.to_numeric(djsurveys['year'+'{}'.format(i)])\n",
    "maxsurvey=djsurveys.idxmax(axis=1)\n",
    "maxsurvey=maxsurvey[0]\n",
    "maxsurvey=maxsurvey[4:]\n",
    "maxsurvey\n",
    "FishStat=dj.loc[0]['result_surveys_'+maxsurvey+'_narrative']\n",
    "SurveyDate=dj.loc[0]['result_surveys_'+maxsurvey+'_surveyDate']\n",
    "SurveyDate\n"
   ]
  },
  {
   "cell_type": "code",
   "execution_count": 21,
   "metadata": {},
   "outputs": [
    {
     "data": {
      "text/plain": [
       "'Most Recent Survey Date:    2016-09-12'"
      ]
     },
     "execution_count": 21,
     "metadata": {},
     "output_type": "execute_result"
    }
   ],
   "source": [
    "Area=dj.loc[0]['result_areaAcres']\n",
    "LitArea=dj.loc[0]['result_littoralAcres']\n",
    "ShoreLength=dj.loc[0]['result_shoreLengthMiles']\n",
    "MeanDepth=dj.loc[0]['result_meanDepthFeet']\n",
    "MaxDepth=dj.loc[0]['result_maxDepthFeet']\n",
    "AvgClar=dj.loc[0]['result_averageWaterClarity']\n",
    "Area2='Area:    '+Area+' acres'\n",
    "LitArea2='Littoral Area:    '+LitArea+' acres'\n",
    "ShoreLength2='Shore Length:    '+ShoreLength+' miles'\n",
    "MeanDepth2='Mean Depth:    '+MeanDepth+' ft'\n",
    "MaxDepth2='Maximum Depth:    '+MaxDepth+' ft'\n",
    "AvgClar2='Average Water Clarity:    '+AvgClar+' ft'\n",
    "SurveyDate2='Most Recent Survey Date:    '+SurveyDate\n",
    "SurveyDate2"
   ]
  },
  {
   "cell_type": "code",
   "execution_count": 97,
   "metadata": {},
   "outputs": [
    {
     "data": {
      "text/html": [
       "<div>\n",
       "<style scoped>\n",
       "    .dataframe tbody tr th:only-of-type {\n",
       "        vertical-align: middle;\n",
       "    }\n",
       "\n",
       "    .dataframe tbody tr th {\n",
       "        vertical-align: top;\n",
       "    }\n",
       "\n",
       "    .dataframe thead th {\n",
       "        text-align: right;\n",
       "    }\n",
       "</style>\n",
       "<table border=\"1\" class=\"dataframe\">\n",
       "  <thead>\n",
       "    <tr style=\"text-align: right;\">\n",
       "      <th></th>\n",
       "      <th>result_surveys_1_lengths_NOP_fishCount_0_0</th>\n",
       "      <th>result_surveys_1_lengths_NOP_fishCount_0_1</th>\n",
       "      <th>result_surveys_1_lengths_NOP_fishCount_1_0</th>\n",
       "      <th>result_surveys_1_lengths_NOP_fishCount_1_1</th>\n",
       "      <th>result_surveys_1_lengths_NOP_fishCount_2_0</th>\n",
       "      <th>result_surveys_1_lengths_NOP_fishCount_2_1</th>\n",
       "      <th>result_surveys_1_lengths_NOP_fishCount_3_0</th>\n",
       "      <th>result_surveys_1_lengths_NOP_fishCount_3_1</th>\n",
       "      <th>result_surveys_1_lengths_NOP_fishCount_4_0</th>\n",
       "      <th>result_surveys_1_lengths_NOP_fishCount_4_1</th>\n",
       "      <th>result_surveys_1_lengths_NOP_fishCount_5_0</th>\n",
       "      <th>result_surveys_1_lengths_NOP_fishCount_5_1</th>\n",
       "      <th>result_surveys_1_lengths_NOP_fishCount_6_0</th>\n",
       "      <th>result_surveys_1_lengths_NOP_fishCount_6_1</th>\n",
       "      <th>result_surveys_1_lengths_NOP_fishCount_7_0</th>\n",
       "      <th>result_surveys_1_lengths_NOP_fishCount_7_1</th>\n",
       "      <th>result_surveys_1_lengths_NOP_fishCount_8_0</th>\n",
       "      <th>result_surveys_1_lengths_NOP_fishCount_8_1</th>\n",
       "      <th>result_surveys_1_lengths_NOP_fishCount_9_0</th>\n",
       "      <th>result_surveys_1_lengths_NOP_fishCount_9_1</th>\n",
       "    </tr>\n",
       "  </thead>\n",
       "  <tbody>\n",
       "    <tr>\n",
       "      <th>0</th>\n",
       "      <td>12</td>\n",
       "      <td>1</td>\n",
       "      <td>14</td>\n",
       "      <td>2</td>\n",
       "      <td>15</td>\n",
       "      <td>1</td>\n",
       "      <td>16</td>\n",
       "      <td>2</td>\n",
       "      <td>17</td>\n",
       "      <td>1</td>\n",
       "      <td>18</td>\n",
       "      <td>1</td>\n",
       "      <td>19</td>\n",
       "      <td>1</td>\n",
       "      <td>20</td>\n",
       "      <td>2</td>\n",
       "      <td>22</td>\n",
       "      <td>1</td>\n",
       "      <td>35</td>\n",
       "      <td>1</td>\n",
       "    </tr>\n",
       "  </tbody>\n",
       "</table>\n",
       "</div>"
      ],
      "text/plain": [
       "  result_surveys_1_lengths_NOP_fishCount_0_0  \\\n",
       "0                                         12   \n",
       "\n",
       "  result_surveys_1_lengths_NOP_fishCount_0_1  \\\n",
       "0                                          1   \n",
       "\n",
       "  result_surveys_1_lengths_NOP_fishCount_1_0  \\\n",
       "0                                         14   \n",
       "\n",
       "  result_surveys_1_lengths_NOP_fishCount_1_1  \\\n",
       "0                                          2   \n",
       "\n",
       "  result_surveys_1_lengths_NOP_fishCount_2_0  \\\n",
       "0                                         15   \n",
       "\n",
       "  result_surveys_1_lengths_NOP_fishCount_2_1  \\\n",
       "0                                          1   \n",
       "\n",
       "  result_surveys_1_lengths_NOP_fishCount_3_0  \\\n",
       "0                                         16   \n",
       "\n",
       "  result_surveys_1_lengths_NOP_fishCount_3_1  \\\n",
       "0                                          2   \n",
       "\n",
       "  result_surveys_1_lengths_NOP_fishCount_4_0  \\\n",
       "0                                         17   \n",
       "\n",
       "  result_surveys_1_lengths_NOP_fishCount_4_1  \\\n",
       "0                                          1   \n",
       "\n",
       "  result_surveys_1_lengths_NOP_fishCount_5_0  \\\n",
       "0                                         18   \n",
       "\n",
       "  result_surveys_1_lengths_NOP_fishCount_5_1  \\\n",
       "0                                          1   \n",
       "\n",
       "  result_surveys_1_lengths_NOP_fishCount_6_0  \\\n",
       "0                                         19   \n",
       "\n",
       "  result_surveys_1_lengths_NOP_fishCount_6_1  \\\n",
       "0                                          1   \n",
       "\n",
       "  result_surveys_1_lengths_NOP_fishCount_7_0  \\\n",
       "0                                         20   \n",
       "\n",
       "  result_surveys_1_lengths_NOP_fishCount_7_1  \\\n",
       "0                                          2   \n",
       "\n",
       "  result_surveys_1_lengths_NOP_fishCount_8_0  \\\n",
       "0                                         22   \n",
       "\n",
       "  result_surveys_1_lengths_NOP_fishCount_8_1  \\\n",
       "0                                          1   \n",
       "\n",
       "  result_surveys_1_lengths_NOP_fishCount_9_0  \\\n",
       "0                                         35   \n",
       "\n",
       "  result_surveys_1_lengths_NOP_fishCount_9_1  \n",
       "0                                          1  "
      ]
     },
     "execution_count": 97,
     "metadata": {},
     "output_type": "execute_result"
    }
   ],
   "source": [
    "#NOP Northern Pike\n",
    "#SMB Smallmouth Bass\n",
    "#WAE Walleye\n",
    "#YEP Yellow Perch\n",
    "\n",
    "#create NOP Data\n",
    "nopcols=[col for col in dj.columns if 'result_surveys_'+maxsurvey+'_lengths_NOP_fishCount' in col]\n",
    "nopcols\n"
   ]
  },
  {
   "cell_type": "code",
   "execution_count": 95,
   "metadata": {},
   "outputs": [
    {
     "data": {
      "text/plain": [
       "10.0"
      ]
     },
     "execution_count": 95,
     "metadata": {},
     "output_type": "execute_result"
    }
   ],
   "source": [
    "numnopcats=len(nopcols)/2\n",
    "numnopcats"
   ]
  },
  {
   "cell_type": "code",
   "execution_count": 98,
   "metadata": {},
   "outputs": [
    {
     "ename": "TypeError",
     "evalue": "'float' object cannot be interpreted as an integer",
     "output_type": "error",
     "traceback": [
      "\u001b[0;31m---------------------------------------------------------------------------\u001b[0m",
      "\u001b[0;31mTypeError\u001b[0m                                 Traceback (most recent call last)",
      "Cell \u001b[0;32mIn[98], line 2\u001b[0m\n\u001b[1;32m      1\u001b[0m djnop\u001b[39m=\u001b[39m[]\n\u001b[0;32m----> 2\u001b[0m \u001b[39mfor\u001b[39;00m i \u001b[39min\u001b[39;00m \u001b[39mrange\u001b[39;49m(\u001b[39m0\u001b[39;49m,numnopcats):\n\u001b[1;32m      3\u001b[0m     djnop[\u001b[39m'\u001b[39m\u001b[39mlen\u001b[39m\u001b[39m'\u001b[39m\u001b[39m+\u001b[39m\u001b[39m'\u001b[39m\u001b[39m{}\u001b[39;00m\u001b[39m'\u001b[39m\u001b[39m.\u001b[39mformat(i)]\u001b[39m=\u001b[39mdj[\u001b[39m'\u001b[39m\u001b[39mresult_surveys_\u001b[39m\u001b[39m'\u001b[39m\u001b[39m+\u001b[39mmaxsurvey\u001b[39m+\u001b[39m\u001b[39m'\u001b[39m\u001b[39m_lengths_NOP_fishCount_\u001b[39m\u001b[39m'\u001b[39m\u001b[39m+\u001b[39m\u001b[39m'\u001b[39m\u001b[39m{}\u001b[39;00m\u001b[39m'\u001b[39m\u001b[39m.\u001b[39mformat(i)\u001b[39m+\u001b[39m\u001b[39m'\u001b[39m\u001b[39m_0\u001b[39m\u001b[39m'\u001b[39m]\n",
      "\u001b[0;31mTypeError\u001b[0m: 'float' object cannot be interpreted as an integer"
     ]
    }
   ],
   "source": [
    "djnop=[]\n",
    "for i in range(0,numnopcats):\n",
    "    djnop['len'+'{}'.format(i)]=dj['result_surveys_'+maxsurvey+'_lengths_NOP_fishCount_'+'{}'.format(i)+'_0']"
   ]
  },
  {
   "cell_type": "code",
   "execution_count": null,
   "metadata": {},
   "outputs": [],
   "source": []
  }
 ],
 "metadata": {
  "kernelspec": {
   "display_name": "bwca",
   "language": "python",
   "name": "python3"
  },
  "language_info": {
   "codemirror_mode": {
    "name": "ipython",
    "version": 3
   },
   "file_extension": ".py",
   "mimetype": "text/x-python",
   "name": "python",
   "nbconvert_exporter": "python",
   "pygments_lexer": "ipython3",
   "version": "3.8.16"
  },
  "orig_nbformat": 4
 },
 "nbformat": 4,
 "nbformat_minor": 2
}
